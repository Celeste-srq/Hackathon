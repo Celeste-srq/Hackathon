{
 "cells": [
  {
   "cell_type": "code",
   "execution_count": 19,
   "metadata": {},
   "outputs": [],
   "source": [
    "import pandas as pd\n",
    "import numpy as np\n",
    "import os\n",
    "import csv "
   ]
  },
  {
   "cell_type": "code",
   "execution_count": 20,
   "metadata": {},
   "outputs": [
    {
     "name": "stdout",
     "output_type": "stream",
     "text": [
      "       Wage (€)  Value (€)               Name  Age  \\\n",
      "0        565000   95500000  Cristiano Ronaldo   32   \n",
      "1        565000  105000000           L. Messi   30   \n",
      "2        280000  123000000             Neymar   25   \n",
      "3        510000   97000000          L. Suárez   30   \n",
      "4        230000   61000000           M. Neuer   31   \n",
      "...         ...        ...                ...  ...   \n",
      "17976      1000      50000          A. Kelsey   17   \n",
      "17977      1000          0      B. Richardson   47   \n",
      "17978      1000      60000           J. Young   17   \n",
      "17979      1000      60000       J. Lundstram   18   \n",
      "17980      1000      50000          L. Sackey   18   \n",
      "\n",
      "                                                 Photo Nationality  \\\n",
      "0       https://cdn.sofifa.org/48/18/players/20801.png    Portugal   \n",
      "1      https://cdn.sofifa.org/48/18/players/158023.png   Argentina   \n",
      "2      https://cdn.sofifa.org/48/18/players/190871.png      Brazil   \n",
      "3      https://cdn.sofifa.org/48/18/players/176580.png     Uruguay   \n",
      "4      https://cdn.sofifa.org/48/18/players/167495.png     Germany   \n",
      "...                                                ...         ...   \n",
      "17976  https://cdn.sofifa.org/48/18/players/237463.png     England   \n",
      "17977   https://cdn.sofifa.org/48/18/players/11728.png     England   \n",
      "17978  https://cdn.sofifa.org/48/18/players/231381.png    Scotland   \n",
      "17979  https://cdn.sofifa.org/48/18/players/238813.png     England   \n",
      "17980  https://cdn.sofifa.org/48/18/players/238308.png       Ghana   \n",
      "\n",
      "                                       Flag  Overall  Potential  \\\n",
      "0       https://cdn.sofifa.org/flags/38.png       94         94   \n",
      "1       https://cdn.sofifa.org/flags/52.png       93         93   \n",
      "2       https://cdn.sofifa.org/flags/54.png       92         94   \n",
      "3       https://cdn.sofifa.org/flags/60.png       92         92   \n",
      "4       https://cdn.sofifa.org/flags/21.png       92         92   \n",
      "...                                     ...      ...        ...   \n",
      "17976   https://cdn.sofifa.org/flags/14.png       46         63   \n",
      "17977   https://cdn.sofifa.org/flags/14.png       46         46   \n",
      "17978   https://cdn.sofifa.org/flags/42.png       46         61   \n",
      "17979   https://cdn.sofifa.org/flags/14.png       46         64   \n",
      "17980  https://cdn.sofifa.org/flags/117.png       46         64   \n",
      "\n",
      "                      Club  ...    RB   RCB   RCM   RDM    RF    RM    RS  \\\n",
      "0           Real Madrid CF  ...  61.0  53.0  82.0  62.0  91.0  89.0  92.0   \n",
      "1             FC Barcelona  ...  57.0  45.0  84.0  59.0  92.0  90.0  88.0   \n",
      "2      Paris Saint-Germain  ...  59.0  46.0  79.0  59.0  88.0  87.0  84.0   \n",
      "3             FC Barcelona  ...  64.0  58.0  80.0  65.0  88.0  85.0  88.0   \n",
      "4         FC Bayern Munich  ...   NaN   NaN   NaN   NaN   NaN   NaN   NaN   \n",
      "...                    ...  ...   ...   ...   ...   ...   ...   ...   ...   \n",
      "17976    Scunthorpe United  ...   NaN   NaN   NaN   NaN   NaN   NaN   NaN   \n",
      "17977    Wycombe Wanderers  ...   NaN   NaN   NaN   NaN   NaN   NaN   NaN   \n",
      "17978         Swindon Town  ...  31.0  28.0  38.0  29.0  45.0  42.0  45.0   \n",
      "17979      Crewe Alexandra  ...  47.0  46.0  45.0  47.0  43.0  45.0  41.0   \n",
      "17980    Scunthorpe United  ...  40.0  45.0  30.0  38.0  29.0  30.0  31.0   \n",
      "\n",
      "         RW   RWB    ST  \n",
      "0      91.0  66.0  92.0  \n",
      "1      91.0  62.0  88.0  \n",
      "2      89.0  64.0  84.0  \n",
      "3      87.0  68.0  88.0  \n",
      "4       NaN   NaN   NaN  \n",
      "...     ...   ...   ...  \n",
      "17976   NaN   NaN   NaN  \n",
      "17977   NaN   NaN   NaN  \n",
      "17978  44.0  32.0  45.0  \n",
      "17979  44.0  46.0  41.0  \n",
      "17980  29.0  38.0  31.0  \n",
      "\n",
      "[17981 rows x 74 columns]\n"
     ]
    }
   ],
   "source": [
    "filename = 'C:/Users/10513/Downloads/fifa18_clean.csv'\n",
    "data = pd.read_csv(filename)\n",
    "print(data)"
   ]
  },
  {
   "cell_type": "code",
   "execution_count": 22,
   "metadata": {},
   "outputs": [
    {
     "name": "stdout",
     "output_type": "stream",
     "text": [
      "                    Name  Age\n",
      "0      Cristiano Ronaldo   32\n",
      "1               L. Messi   30\n",
      "2                 Neymar   25\n",
      "3              L. Suárez   30\n",
      "4               M. Neuer   31\n",
      "...                  ...  ...\n",
      "17976          A. Kelsey   17\n",
      "17977      B. Richardson   47\n",
      "17978           J. Young   17\n",
      "17979       J. Lundstram   18\n",
      "17980          L. Sackey   18\n",
      "\n",
      "[17981 rows x 2 columns]\n"
     ]
    }
   ],
   "source": [
    "# Use the multi-axes indexing funtion\n",
    "print (data.loc[:,['Name','Age']])\n"
   ]
  },
  {
   "cell_type": "code",
   "execution_count": null,
   "metadata": {},
   "outputs": [],
   "source": []
  }
 ],
 "metadata": {
  "kernelspec": {
   "display_name": "Python 3",
   "language": "python",
   "name": "python3"
  },
  "language_info": {
   "codemirror_mode": {
    "name": "ipython",
    "version": 3
   },
   "file_extension": ".py",
   "mimetype": "text/x-python",
   "name": "python",
   "nbconvert_exporter": "python",
   "pygments_lexer": "ipython3",
   "version": "3.8.5"
  }
 },
 "nbformat": 4,
 "nbformat_minor": 4
}
